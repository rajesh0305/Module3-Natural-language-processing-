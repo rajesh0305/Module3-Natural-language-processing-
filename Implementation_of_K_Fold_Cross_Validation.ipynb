{
  "nbformat": 4,
  "nbformat_minor": 0,
  "metadata": {
    "colab": {
      "provenance": [],
      "gpuType": "T4",
      "mount_file_id": "1svUQQKDOwA8zVMWo8Dga4qbwoNzU7ocJ",
      "authorship_tag": "ABX9TyOOXdBUxkttGhk3Rm7EgW6Q",
      "include_colab_link": true
    },
    "kernelspec": {
      "name": "python3",
      "display_name": "Python 3"
    },
    "language_info": {
      "name": "python"
    },
    "accelerator": "GPU"
  },
  "cells": [
    {
      "cell_type": "markdown",
      "metadata": {
        "id": "view-in-github",
        "colab_type": "text"
      },
      "source": [
        "<a href=\"https://colab.research.google.com/github/rajesh0305/Module3-Natural-language-processing-/blob/main/Implementation_of_K_Fold_Cross_Validation.ipynb\" target=\"_parent\"><img src=\"https://colab.research.google.com/assets/colab-badge.svg\" alt=\"Open In Colab\"/></a>"
      ]
    },
    {
      "cell_type": "code",
      "execution_count": 3,
      "metadata": {
        "colab": {
          "base_uri": "https://localhost:8080/"
        },
        "id": "Km8EJyDT_P37",
        "outputId": "37f5dadd-7516-40a2-bc21-66d2ba1e3d9b"
      },
      "outputs": [
        {
          "output_type": "stream",
          "name": "stdout",
          "text": [
            "Requirement already satisfied: scikit-learn in /usr/local/lib/python3.10/dist-packages (1.4.2)\n",
            "Requirement already satisfied: numpy>=1.19.5 in /usr/local/lib/python3.10/dist-packages (from scikit-learn) (1.25.2)\n",
            "Requirement already satisfied: scipy>=1.6.0 in /usr/local/lib/python3.10/dist-packages (from scikit-learn) (1.11.4)\n",
            "Requirement already satisfied: joblib>=1.2.0 in /usr/local/lib/python3.10/dist-packages (from scikit-learn) (1.4.2)\n",
            "Requirement already satisfied: threadpoolctl>=2.0.0 in /usr/local/lib/python3.10/dist-packages (from scikit-learn) (3.5.0)\n"
          ]
        }
      ],
      "source": [
        "# !pip install scikit-learn==0.17\n",
        "!pip install --upgrade scikit-learn\n",
        "import numpy as np\n",
        "import pandas as pd\n",
        "import matplotlib.pyplot as plt\n",
        "# from sklearn.cross_validation import train_test_split\n",
        "from sklearn.model_selection import train_test_split\n",
        "from sklearn.neighbors import KNeighborsClassifier\n",
        "from sklearn.metrics import accuracy_score\n",
        "#from sklearn.cross_validation import cross_val_score\n",
        "from sklearn.model_selection import cross_val_score\n",
        "from collections import Counter\n",
        "from sklearn.metrics import accuracy_score\n",
        "#from sklearn import cross_validation\n",
        "from sklearn import model_selection"
      ]
    },
    {
      "cell_type": "code",
      "source": [
        "df = pd.read_csv('/content/drive/MyDrive/demo_data_for_knn/3.concertriccir2.csv')\n",
        "df.head()"
      ],
      "metadata": {
        "colab": {
          "base_uri": "https://localhost:8080/",
          "height": 206
        },
        "id": "OCFQxMMLEwN9",
        "outputId": "ec3e420f-83ba-4481-aab0-935af5a273f9"
      },
      "execution_count": 5,
      "outputs": [
        {
          "output_type": "execute_result",
          "data": {
            "text/plain": [
              "   7.003345706103683010e-01  -2.470675778972781789e-01  \\\n",
              "0                 -3.950019                   2.740080   \n",
              "1                  0.150222                  -2.157638   \n",
              "2                 -1.672050                  -0.941519   \n",
              "3                  2.560483                  -1.846577   \n",
              "4                 -1.724979                   3.463930   \n",
              "\n",
              "   0.000000000000000000e+00  \n",
              "0                       1.0  \n",
              "1                       1.0  \n",
              "2                       1.0  \n",
              "3                       1.0  \n",
              "4                       1.0  "
            ],
            "text/html": [
              "\n",
              "  <div id=\"df-c8a492f1-6042-4116-b502-a93fda754fef\" class=\"colab-df-container\">\n",
              "    <div>\n",
              "<style scoped>\n",
              "    .dataframe tbody tr th:only-of-type {\n",
              "        vertical-align: middle;\n",
              "    }\n",
              "\n",
              "    .dataframe tbody tr th {\n",
              "        vertical-align: top;\n",
              "    }\n",
              "\n",
              "    .dataframe thead th {\n",
              "        text-align: right;\n",
              "    }\n",
              "</style>\n",
              "<table border=\"1\" class=\"dataframe\">\n",
              "  <thead>\n",
              "    <tr style=\"text-align: right;\">\n",
              "      <th></th>\n",
              "      <th>7.003345706103683010e-01</th>\n",
              "      <th>-2.470675778972781789e-01</th>\n",
              "      <th>0.000000000000000000e+00</th>\n",
              "    </tr>\n",
              "  </thead>\n",
              "  <tbody>\n",
              "    <tr>\n",
              "      <th>0</th>\n",
              "      <td>-3.950019</td>\n",
              "      <td>2.740080</td>\n",
              "      <td>1.0</td>\n",
              "    </tr>\n",
              "    <tr>\n",
              "      <th>1</th>\n",
              "      <td>0.150222</td>\n",
              "      <td>-2.157638</td>\n",
              "      <td>1.0</td>\n",
              "    </tr>\n",
              "    <tr>\n",
              "      <th>2</th>\n",
              "      <td>-1.672050</td>\n",
              "      <td>-0.941519</td>\n",
              "      <td>1.0</td>\n",
              "    </tr>\n",
              "    <tr>\n",
              "      <th>3</th>\n",
              "      <td>2.560483</td>\n",
              "      <td>-1.846577</td>\n",
              "      <td>1.0</td>\n",
              "    </tr>\n",
              "    <tr>\n",
              "      <th>4</th>\n",
              "      <td>-1.724979</td>\n",
              "      <td>3.463930</td>\n",
              "      <td>1.0</td>\n",
              "    </tr>\n",
              "  </tbody>\n",
              "</table>\n",
              "</div>\n",
              "    <div class=\"colab-df-buttons\">\n",
              "\n",
              "  <div class=\"colab-df-container\">\n",
              "    <button class=\"colab-df-convert\" onclick=\"convertToInteractive('df-c8a492f1-6042-4116-b502-a93fda754fef')\"\n",
              "            title=\"Convert this dataframe to an interactive table.\"\n",
              "            style=\"display:none;\">\n",
              "\n",
              "  <svg xmlns=\"http://www.w3.org/2000/svg\" height=\"24px\" viewBox=\"0 -960 960 960\">\n",
              "    <path d=\"M120-120v-720h720v720H120Zm60-500h600v-160H180v160Zm220 220h160v-160H400v160Zm0 220h160v-160H400v160ZM180-400h160v-160H180v160Zm440 0h160v-160H620v160ZM180-180h160v-160H180v160Zm440 0h160v-160H620v160Z\"/>\n",
              "  </svg>\n",
              "    </button>\n",
              "\n",
              "  <style>\n",
              "    .colab-df-container {\n",
              "      display:flex;\n",
              "      gap: 12px;\n",
              "    }\n",
              "\n",
              "    .colab-df-convert {\n",
              "      background-color: #E8F0FE;\n",
              "      border: none;\n",
              "      border-radius: 50%;\n",
              "      cursor: pointer;\n",
              "      display: none;\n",
              "      fill: #1967D2;\n",
              "      height: 32px;\n",
              "      padding: 0 0 0 0;\n",
              "      width: 32px;\n",
              "    }\n",
              "\n",
              "    .colab-df-convert:hover {\n",
              "      background-color: #E2EBFA;\n",
              "      box-shadow: 0px 1px 2px rgba(60, 64, 67, 0.3), 0px 1px 3px 1px rgba(60, 64, 67, 0.15);\n",
              "      fill: #174EA6;\n",
              "    }\n",
              "\n",
              "    .colab-df-buttons div {\n",
              "      margin-bottom: 4px;\n",
              "    }\n",
              "\n",
              "    [theme=dark] .colab-df-convert {\n",
              "      background-color: #3B4455;\n",
              "      fill: #D2E3FC;\n",
              "    }\n",
              "\n",
              "    [theme=dark] .colab-df-convert:hover {\n",
              "      background-color: #434B5C;\n",
              "      box-shadow: 0px 1px 3px 1px rgba(0, 0, 0, 0.15);\n",
              "      filter: drop-shadow(0px 1px 2px rgba(0, 0, 0, 0.3));\n",
              "      fill: #FFFFFF;\n",
              "    }\n",
              "  </style>\n",
              "\n",
              "    <script>\n",
              "      const buttonEl =\n",
              "        document.querySelector('#df-c8a492f1-6042-4116-b502-a93fda754fef button.colab-df-convert');\n",
              "      buttonEl.style.display =\n",
              "        google.colab.kernel.accessAllowed ? 'block' : 'none';\n",
              "\n",
              "      async function convertToInteractive(key) {\n",
              "        const element = document.querySelector('#df-c8a492f1-6042-4116-b502-a93fda754fef');\n",
              "        const dataTable =\n",
              "          await google.colab.kernel.invokeFunction('convertToInteractive',\n",
              "                                                    [key], {});\n",
              "        if (!dataTable) return;\n",
              "\n",
              "        const docLinkHtml = 'Like what you see? Visit the ' +\n",
              "          '<a target=\"_blank\" href=https://colab.research.google.com/notebooks/data_table.ipynb>data table notebook</a>'\n",
              "          + ' to learn more about interactive tables.';\n",
              "        element.innerHTML = '';\n",
              "        dataTable['output_type'] = 'display_data';\n",
              "        await google.colab.output.renderOutput(dataTable, element);\n",
              "        const docLink = document.createElement('div');\n",
              "        docLink.innerHTML = docLinkHtml;\n",
              "        element.appendChild(docLink);\n",
              "      }\n",
              "    </script>\n",
              "  </div>\n",
              "\n",
              "\n",
              "<div id=\"df-195edd9d-2643-4ab9-abe8-8c9c6ffc7312\">\n",
              "  <button class=\"colab-df-quickchart\" onclick=\"quickchart('df-195edd9d-2643-4ab9-abe8-8c9c6ffc7312')\"\n",
              "            title=\"Suggest charts\"\n",
              "            style=\"display:none;\">\n",
              "\n",
              "<svg xmlns=\"http://www.w3.org/2000/svg\" height=\"24px\"viewBox=\"0 0 24 24\"\n",
              "     width=\"24px\">\n",
              "    <g>\n",
              "        <path d=\"M19 3H5c-1.1 0-2 .9-2 2v14c0 1.1.9 2 2 2h14c1.1 0 2-.9 2-2V5c0-1.1-.9-2-2-2zM9 17H7v-7h2v7zm4 0h-2V7h2v10zm4 0h-2v-4h2v4z\"/>\n",
              "    </g>\n",
              "</svg>\n",
              "  </button>\n",
              "\n",
              "<style>\n",
              "  .colab-df-quickchart {\n",
              "      --bg-color: #E8F0FE;\n",
              "      --fill-color: #1967D2;\n",
              "      --hover-bg-color: #E2EBFA;\n",
              "      --hover-fill-color: #174EA6;\n",
              "      --disabled-fill-color: #AAA;\n",
              "      --disabled-bg-color: #DDD;\n",
              "  }\n",
              "\n",
              "  [theme=dark] .colab-df-quickchart {\n",
              "      --bg-color: #3B4455;\n",
              "      --fill-color: #D2E3FC;\n",
              "      --hover-bg-color: #434B5C;\n",
              "      --hover-fill-color: #FFFFFF;\n",
              "      --disabled-bg-color: #3B4455;\n",
              "      --disabled-fill-color: #666;\n",
              "  }\n",
              "\n",
              "  .colab-df-quickchart {\n",
              "    background-color: var(--bg-color);\n",
              "    border: none;\n",
              "    border-radius: 50%;\n",
              "    cursor: pointer;\n",
              "    display: none;\n",
              "    fill: var(--fill-color);\n",
              "    height: 32px;\n",
              "    padding: 0;\n",
              "    width: 32px;\n",
              "  }\n",
              "\n",
              "  .colab-df-quickchart:hover {\n",
              "    background-color: var(--hover-bg-color);\n",
              "    box-shadow: 0 1px 2px rgba(60, 64, 67, 0.3), 0 1px 3px 1px rgba(60, 64, 67, 0.15);\n",
              "    fill: var(--button-hover-fill-color);\n",
              "  }\n",
              "\n",
              "  .colab-df-quickchart-complete:disabled,\n",
              "  .colab-df-quickchart-complete:disabled:hover {\n",
              "    background-color: var(--disabled-bg-color);\n",
              "    fill: var(--disabled-fill-color);\n",
              "    box-shadow: none;\n",
              "  }\n",
              "\n",
              "  .colab-df-spinner {\n",
              "    border: 2px solid var(--fill-color);\n",
              "    border-color: transparent;\n",
              "    border-bottom-color: var(--fill-color);\n",
              "    animation:\n",
              "      spin 1s steps(1) infinite;\n",
              "  }\n",
              "\n",
              "  @keyframes spin {\n",
              "    0% {\n",
              "      border-color: transparent;\n",
              "      border-bottom-color: var(--fill-color);\n",
              "      border-left-color: var(--fill-color);\n",
              "    }\n",
              "    20% {\n",
              "      border-color: transparent;\n",
              "      border-left-color: var(--fill-color);\n",
              "      border-top-color: var(--fill-color);\n",
              "    }\n",
              "    30% {\n",
              "      border-color: transparent;\n",
              "      border-left-color: var(--fill-color);\n",
              "      border-top-color: var(--fill-color);\n",
              "      border-right-color: var(--fill-color);\n",
              "    }\n",
              "    40% {\n",
              "      border-color: transparent;\n",
              "      border-right-color: var(--fill-color);\n",
              "      border-top-color: var(--fill-color);\n",
              "    }\n",
              "    60% {\n",
              "      border-color: transparent;\n",
              "      border-right-color: var(--fill-color);\n",
              "    }\n",
              "    80% {\n",
              "      border-color: transparent;\n",
              "      border-right-color: var(--fill-color);\n",
              "      border-bottom-color: var(--fill-color);\n",
              "    }\n",
              "    90% {\n",
              "      border-color: transparent;\n",
              "      border-bottom-color: var(--fill-color);\n",
              "    }\n",
              "  }\n",
              "</style>\n",
              "\n",
              "  <script>\n",
              "    async function quickchart(key) {\n",
              "      const quickchartButtonEl =\n",
              "        document.querySelector('#' + key + ' button');\n",
              "      quickchartButtonEl.disabled = true;  // To prevent multiple clicks.\n",
              "      quickchartButtonEl.classList.add('colab-df-spinner');\n",
              "      try {\n",
              "        const charts = await google.colab.kernel.invokeFunction(\n",
              "            'suggestCharts', [key], {});\n",
              "      } catch (error) {\n",
              "        console.error('Error during call to suggestCharts:', error);\n",
              "      }\n",
              "      quickchartButtonEl.classList.remove('colab-df-spinner');\n",
              "      quickchartButtonEl.classList.add('colab-df-quickchart-complete');\n",
              "    }\n",
              "    (() => {\n",
              "      let quickchartButtonEl =\n",
              "        document.querySelector('#df-195edd9d-2643-4ab9-abe8-8c9c6ffc7312 button');\n",
              "      quickchartButtonEl.style.display =\n",
              "        google.colab.kernel.accessAllowed ? 'block' : 'none';\n",
              "    })();\n",
              "  </script>\n",
              "</div>\n",
              "\n",
              "    </div>\n",
              "  </div>\n"
            ],
            "application/vnd.google.colaboratory.intrinsic+json": {
              "type": "dataframe",
              "variable_name": "df",
              "summary": "{\n  \"name\": \"df\",\n  \"rows\": 499,\n  \"fields\": [\n    {\n      \"column\": \"7.003345706103683010e-01\",\n      \"properties\": {\n        \"dtype\": \"number\",\n        \"std\": 1.9324842698716707,\n        \"min\": -3.950018688068096,\n        \"max\": 6.712026704298365,\n        \"num_unique_values\": 499,\n        \"samples\": [\n          4.059903555678553,\n          3.5755925046621497,\n          0.27235522613027063\n        ],\n        \"semantic_type\": \"\",\n        \"description\": \"\"\n      }\n    },\n    {\n      \"column\": \"-2.470675778972781789e-01\",\n      \"properties\": {\n        \"dtype\": \"number\",\n        \"std\": 1.9865772295312298,\n        \"min\": -3.935097981925364,\n        \"max\": 7.848278359647373,\n        \"num_unique_values\": 499,\n        \"samples\": [\n          0.1812022846865928,\n          -0.35162267472282344,\n          0.9187498828329869\n        ],\n        \"semantic_type\": \"\",\n        \"description\": \"\"\n      }\n    },\n    {\n      \"column\": \"0.000000000000000000e+00\",\n      \"properties\": {\n        \"dtype\": \"number\",\n        \"std\": 0.5005007512521914,\n        \"min\": 0.0,\n        \"max\": 1.0,\n        \"num_unique_values\": 2,\n        \"samples\": [\n          0.0,\n          1.0\n        ],\n        \"semantic_type\": \"\",\n        \"description\": \"\"\n      }\n    }\n  ]\n}"
            }
          },
          "metadata": {},
          "execution_count": 5
        }
      ]
    },
    {
      "cell_type": "code",
      "source": [
        "#part I\n",
        "#==========data processing ============\n",
        "\n",
        "#define column names\n",
        "names =['x','y','class']\n",
        "\n",
        "#loading traning data\n",
        "df = pd.read_csv('/content/drive/MyDrive/demo_data_for_knn/3.concertriccir2.csv',header=None,names =names )\n",
        "print(df.head())\n",
        "\n",
        "#create design matrix x and target vector y\n",
        "x = np.array(df.iloc[:,0:4])#end index is exclusive\n",
        "y = np.array(df['class'])#showing you two ways of indexing a pandas df\n"
      ],
      "metadata": {
        "colab": {
          "base_uri": "https://localhost:8080/"
        },
        "id": "jF9_kW78BHol",
        "outputId": "e614c850-3f66-42b2-ed2b-1de5783d6850"
      },
      "execution_count": 4,
      "outputs": [
        {
          "output_type": "stream",
          "name": "stdout",
          "text": [
            "          x         y  class\n",
            "0  0.700335 -0.247068    0.0\n",
            "1 -3.950019  2.740080    1.0\n",
            "2  0.150222 -2.157638    1.0\n",
            "3 -1.672050 -0.941519    1.0\n",
            "4  2.560483 -1.846577    1.0\n"
          ]
        }
      ]
    },
    {
      "cell_type": "markdown",
      "source": [
        "**Smple Cross Validation**"
      ],
      "metadata": {
        "id": "IevarehYFgeE"
      }
    },
    {
      "cell_type": "code",
      "source": [
        "#split the data into train and test part\n",
        "x_1,x_test,y_1,y_test = model_selection.train_test_split(x,y,test_size = 0.3,random_state=0)\n",
        "\n",
        "#split the train data set into cross validation train and cross validation\n",
        "x_train,x_cv,y_train,y_cv = model_selection.train_test_split(x_1,y_1,test_size = 0.3,random_state = 0)\n",
        "\n",
        "\n",
        "for i in range (1,30,2):\n",
        "  #initialize learning model(k=30)\n",
        "  knn = KNeighborsClassifier(n_neighbors=i)\n",
        "\n",
        "  #fitting the model on crossvalidation train\n",
        "  knn.fit(x_train,y_train)\n",
        "\n",
        "  #predict the response on the crossvalidation  train\n",
        "  pred = knn.predict(x_cv)\n",
        "\n",
        "  #evaluate cv accuracy\n",
        "  acc = accuracy_score(y_cv,pred,normalize = True)*float(100)\n",
        "  print('\\nCV accuracy for k = %d is %d%%'% (i,acc))\n",
        "\n",
        "\n",
        "knn = KNeighborsClassifier(1)\n",
        "knn.fit(x_train,y_train)\n",
        "pred = knn.predict(x_test)\n",
        "acc = accuracy_score(y_test,pred,normalize = True)*float(100)\n",
        "print('\\n***test accuracy for k=1 is %d%%'%(acc))\n",
        "\n",
        "\n",
        "knn = KNeighborsClassifier(3)\n",
        "knn.fit(x_train,y_train)\n",
        "pred = knn.predict(x_test)\n",
        "acc = accuracy_score(y_test,pred,normalize= True)*float(100)\n",
        "print('\\n**test accuracy for k = 3 is %d%%'%(acc))\n"
      ],
      "metadata": {
        "colab": {
          "base_uri": "https://localhost:8080/"
        },
        "id": "rXz--YbTErVu",
        "outputId": "9dae3ef9-7655-4e85-fa9c-929f38833e7d"
      },
      "execution_count": 9,
      "outputs": [
        {
          "output_type": "stream",
          "name": "stdout",
          "text": [
            "\n",
            "CV accuracy for k = 1 is 100%\n",
            "\n",
            "CV accuracy for k = 3 is 100%\n",
            "\n",
            "CV accuracy for k = 5 is 100%\n",
            "\n",
            "CV accuracy for k = 7 is 100%\n",
            "\n",
            "CV accuracy for k = 9 is 100%\n",
            "\n",
            "CV accuracy for k = 11 is 98%\n",
            "\n",
            "CV accuracy for k = 13 is 94%\n",
            "\n",
            "CV accuracy for k = 15 is 94%\n",
            "\n",
            "CV accuracy for k = 17 is 91%\n",
            "\n",
            "CV accuracy for k = 19 is 90%\n",
            "\n",
            "CV accuracy for k = 21 is 86%\n",
            "\n",
            "CV accuracy for k = 23 is 85%\n",
            "\n",
            "CV accuracy for k = 25 is 83%\n",
            "\n",
            "CV accuracy for k = 27 is 80%\n",
            "\n",
            "CV accuracy for k = 29 is 77%\n",
            "\n",
            "***test accuracy for k=1 is 99%\n",
            "\n",
            "**test accuracy for k = 3 is 99%\n"
          ]
        }
      ]
    },
    {
      "cell_type": "markdown",
      "source": [
        "**10 Fold Cross Validation**"
      ],
      "metadata": {
        "id": "kW8MvaoMLcUR"
      }
    },
    {
      "cell_type": "code",
      "source": [
        "#creating odd list of K for KNN\n",
        "myList = list(range(0,50))\n",
        "neighbors = list(filter(lambda x: x%2 !=0, myList))\n",
        "\n",
        "#empty list that will hold cv score\n",
        "cv_scores = []\n",
        "\n",
        "#perform 10-fold cross validation\n",
        "for k in neighbors:\n",
        "  knn = KNeighborsClassifier(n_neighbors=k)\n",
        "  scores = cross_val_score(knn,x_train, y_train, cv = 10,scoring = 'accuracy')\n",
        "  cv_scores.append(scores.mean())\n",
        "#changing to misclassification error\n",
        "mse = [1-x for x in cv_scores]\n",
        "\n",
        "#determinig best k\n",
        "optimal_k = neighbors[mse.index(min(mse))]\n",
        "print('\\n The optimal number of neighbors is %d.'% optimal_k)\n",
        "\n",
        "\n",
        "\n",
        "#plot misclassification error vs k\n",
        "plt.plot(neighbors,mse)\n",
        "\n",
        "for xy in zip(neighbors , np.round(mse,3)):\n",
        "  plt.annotate('(%s,%s)' %xy, xy = xy,textcoords = 'data')\n",
        "\n",
        "plt.xlabel('Number of Neighbors K')\n",
        "plt.ylabel('Misclassification Error')\n",
        "\n",
        "print(\"the misclassification error for each k values is :\",np.round(mse,3))\n"
      ],
      "metadata": {
        "colab": {
          "base_uri": "https://localhost:8080/",
          "height": 536
        },
        "id": "mbDL3qpOJDkQ",
        "outputId": "b55ab49f-c444-4e80-c232-445f06d5d064"
      },
      "execution_count": 12,
      "outputs": [
        {
          "output_type": "stream",
          "name": "stdout",
          "text": [
            "\n",
            " The optimal number of neighbors is 1.\n",
            "the misclassification error for each k values is : [0.    0.    0.004 0.012 0.029 0.049 0.054 0.078 0.09  0.103 0.136 0.16\n",
            " 0.184 0.238 0.238 0.254 0.282 0.29  0.29  0.29  0.319 0.326 0.347 0.355\n",
            " 0.372]\n"
          ]
        },
        {
          "output_type": "display_data",
          "data": {
            "text/plain": [
              "<Figure size 640x480 with 1 Axes>"
            ],
            "image/png": "[encoded data removed]"
          },
          "metadata": {}
        }
      ]
    },
    {
      "cell_type": "code",
      "source": [
        "#=========KNN with k = optimal_k============\n",
        "#instantiate learning model k = optimal_k\n",
        "knn_optimal = KNeighborsClassifier(n_neighbors=optimal_k)\n",
        "\n",
        "#fitting the model\n",
        "knn_optimal.fit(x_train,y_train)\n",
        "\n",
        "#predict the response\n",
        "pred = knn_optimal.predict(x_test)\n",
        "\n",
        "#evaluate accuracy\n",
        "acc = accuracy_score(y_test,pred)*float(100)\n",
        "print('\\n The accuracy of the Knn classifier for k = %d is %f%%'%(optimal_k,acc))\n"
      ],
      "metadata": {
        "colab": {
          "base_uri": "https://localhost:8080/"
        },
        "id": "33-Epo3EPZzQ",
        "outputId": "8f4fcd28-532a-4d98-e37e-99945108e528"
      },
      "execution_count": 14,
      "outputs": [
        {
          "output_type": "stream",
          "name": "stdout",
          "text": [
            "\n",
            " The accuracy of the Knn classifier for k = 1 is 99.333333%\n"
          ]
        }
      ]
    },
    {
      "cell_type": "code",
      "source": [],
      "metadata": {
        "id": "2lrmSuM5RsLq"
      },
      "execution_count": null,
      "outputs": []
    }
  ]
}